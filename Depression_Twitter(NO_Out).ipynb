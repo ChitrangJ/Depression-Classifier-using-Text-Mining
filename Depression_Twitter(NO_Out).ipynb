{
 "cells": [
  {
   "cell_type": "code",
   "execution_count": null,
   "metadata": {},
   "outputs": [],
   "source": [
    "from tweepy.streaming import StreamListener\n",
    "from tweepy import OAuthHandler\n",
    "from tweepy import Stream\n",
    "\n",
    "\n",
    "consumer_key = '3qoEiOKvBJ3CwR86ovzepHKhD'\n",
    "consumer_secret = 'IqZpZK3NVukY7nwuTCIfVDBv9e5yu7gslLOru087H9OPXfdrGi'\n",
    "access_token = '1016214849729146880-iEVWhb1VcNdIaGRSCoPCdqPa5Oc4HJ'\n",
    "access_secret = 'tJ2ZGI1QkNHqMDcjjrniLJVPIRTdpQVn5TRvXUokzQMQZ'\n",
    "\n",
    "\n",
    "\n",
    "class StdOutListener(StreamListener):\n",
    "\n",
    "    def on_data(self, data):\n",
    "        with open('C:\\\\Users\\\\CHITRANG\\\\Desktop\\\\Sem-6\\\\Depression\\\\dep_tweet.txt','a') as tf:\n",
    "            tf.write(data)\n",
    "        print(data)\n",
    "        return True\n",
    "\n",
    "    def on_error(self, status):\n",
    "        print(status)\n",
    "\n",
    "\n",
    "if __name__ == '__main__':\n",
    "\n",
    "\n",
    "    l = StdOutListener()\n",
    "    auth = OAuthHandler(consumer_key, consumer_secret)\n",
    "    auth.set_access_token(access_token, access_secret)\n",
    "    stream = Stream(auth, l)\n",
    "\n",
    "    stream.filter(track=['depression', 'suicide','sad', 'anxiety', 'mental health', 'stress'])"
   ]
  },
  {
   "cell_type": "code",
   "execution_count": null,
   "metadata": {},
   "outputs": [],
   "source": []
  }
 ],
 "metadata": {
  "kernelspec": {
   "display_name": "Python 3",
   "language": "python",
   "name": "python3"
  },
  "language_info": {
   "codemirror_mode": {
    "name": "ipython",
    "version": 3
   },
   "file_extension": ".py",
   "mimetype": "text/x-python",
   "name": "python",
   "nbconvert_exporter": "python",
   "pygments_lexer": "ipython3",
   "version": "3.7.3"
  }
 },
 "nbformat": 4,
 "nbformat_minor": 2
}
